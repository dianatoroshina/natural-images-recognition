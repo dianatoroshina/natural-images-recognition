{
 "cells": [
  {
   "cell_type": "code",
   "execution_count": 1,
   "id": "dce61352",
   "metadata": {},
   "outputs": [],
   "source": [
    "import numpy as np\n",
    "import joblib\n",
    "from tensorflow.keras.preprocessing import image"
   ]
  },
  {
   "cell_type": "code",
   "execution_count": 2,
   "id": "45738e90",
   "metadata": {},
   "outputs": [],
   "source": [
    "model = joblib.load('keras-model.joblib')"
   ]
  },
  {
   "cell_type": "code",
   "execution_count": 4,
   "id": "487d3de1",
   "metadata": {},
   "outputs": [
    {
     "name": "stdout",
     "output_type": "stream",
     "text": [
      "Введите путь к изображению: \n",
      "photo_2024-05-07_14-13-45.jpg\n",
      "1/1 [==============================] - 0s 30ms/step\n",
      "Ваше изображение - cat\n"
     ]
    }
   ],
   "source": [
    "print(\"Введите путь к изображению: \")\n",
    "image_path = input()\n",
    "\n",
    "img = image.load_img(image_path, target_size=(224, 224))\n",
    "img_array = image.img_to_array(img)\n",
    "img_array = np.expand_dims(img_array, axis=0)  \n",
    "img_array /= 255.0  \n",
    "\n",
    "predictions = model.predict(img_array)\n",
    "predicted_class = np.argmax(predictions, axis=1)\n",
    "\n",
    "class_names = ['airplane', 'car', 'cat', 'dog', 'flower', 'fruit', 'motorbike', 'person']\n",
    "predicted_class_name = class_names[predicted_class[0]]\n",
    "\n",
    "print(f'Ваше изображение - {predicted_class_name}')"
   ]
  }
 ],
 "metadata": {
  "kernelspec": {
   "display_name": "Python 3 (ipykernel)",
   "language": "python",
   "name": "python3"
  },
  "language_info": {
   "codemirror_mode": {
    "name": "ipython",
    "version": 3
   },
   "file_extension": ".py",
   "mimetype": "text/x-python",
   "name": "python",
   "nbconvert_exporter": "python",
   "pygments_lexer": "ipython3",
   "version": "3.9.13"
  }
 },
 "nbformat": 4,
 "nbformat_minor": 5
}
