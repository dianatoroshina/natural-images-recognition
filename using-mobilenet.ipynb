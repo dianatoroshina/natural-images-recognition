{
 "cells": [
  {
   "cell_type": "code",
   "execution_count": 5,
   "id": "01b0ff4d",
   "metadata": {},
   "outputs": [],
   "source": [
    "import cv2\n",
    "import numpy as np\n",
    "from tensorflow.keras.preprocessing import image\n",
    "from tensorflow.keras.models import load_model"
   ]
  },
  {
   "cell_type": "code",
   "execution_count": 6,
   "id": "43dddd4e",
   "metadata": {},
   "outputs": [],
   "source": [
    "model = load_model('mobilenet_model.h5')"
   ]
  },
  {
   "cell_type": "code",
   "execution_count": 7,
   "id": "ab16dc40",
   "metadata": {},
   "outputs": [],
   "source": [
    "def preprocess_image(image_path):\n",
    "    img = cv2.imread(image_path)\n",
    "    img = cv2.cvtColor(img, cv2.COLOR_BGR2RGB)\n",
    "    img = cv2.resize(img, (224, 224))\n",
    "    img = np.expand_dims(img, axis=0)\n",
    "    img = img.astype('float32')\n",
    "    img /= 255.0\n",
    "    return img"
   ]
  },
  {
   "cell_type": "code",
   "execution_count": 10,
   "id": "d34287c5",
   "metadata": {},
   "outputs": [
    {
     "name": "stdout",
     "output_type": "stream",
     "text": [
      "Введите путь к изображению: \n",
      "photo_2024-05-07_14-13-45.jpg\n",
      "1/1 [==============================] - 0s 40ms/step\n",
      "Ваше изображение - cat\n"
     ]
    }
   ],
   "source": [
    "print(\"Введите путь к изображению: \")\n",
    "image_path = input()\n",
    "processed_image = preprocess_image(image_path)\n",
    "\n",
    "predictions = model.predict(processed_image)\n",
    "predicted_class = np.argmax(predictions, axis=1)\n",
    "\n",
    "class_names = ['airplane', 'car', 'cat', 'dog', 'flower', 'fruit', 'motorbike', 'person']\n",
    "predicted_class_name = class_names[predicted_class[0]]\n",
    "\n",
    "print(f'Ваше изображение - {predicted_class_name}')"
   ]
  }
 ],
 "metadata": {
  "kernelspec": {
   "display_name": "Python 3 (ipykernel)",
   "language": "python",
   "name": "python3"
  },
  "language_info": {
   "codemirror_mode": {
    "name": "ipython",
    "version": 3
   },
   "file_extension": ".py",
   "mimetype": "text/x-python",
   "name": "python",
   "nbconvert_exporter": "python",
   "pygments_lexer": "ipython3",
   "version": "3.9.13"
  }
 },
 "nbformat": 4,
 "nbformat_minor": 5
}
